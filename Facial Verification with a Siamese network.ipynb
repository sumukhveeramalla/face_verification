{
 "cells": [
  {
   "cell_type": "code",
   "execution_count": 1,
   "id": "69b2e80d",
   "metadata": {},
   "outputs": [
    {
     "name": "stdout",
     "output_type": "stream",
     "text": [
      "Requirement already satisfied: tensorflow==2.4.1 in c:\\users\\sumuk\\.conda\\envs\\face\\lib\\site-packages (2.4.1)\n",
      "Requirement already satisfied: tensorflow-gpu==2.4.1 in c:\\users\\sumuk\\.conda\\envs\\face\\lib\\site-packages (2.4.1)\n",
      "Requirement already satisfied: opencv-python in c:\\users\\sumuk\\.conda\\envs\\face\\lib\\site-packages (4.8.0.74)\n",
      "Requirement already satisfied: matplotlib in c:\\users\\sumuk\\.conda\\envs\\face\\lib\\site-packages (3.5.3)\n",
      "Requirement already satisfied: gast==0.3.3 in c:\\users\\sumuk\\.conda\\envs\\face\\lib\\site-packages (from tensorflow==2.4.1) (0.3.3)\n",
      "Requirement already satisfied: tensorflow-estimator<2.5.0,>=2.4.0 in c:\\users\\sumuk\\.conda\\envs\\face\\lib\\site-packages (from tensorflow==2.4.1) (2.4.0)\n",
      "Requirement already satisfied: absl-py~=0.10 in c:\\users\\sumuk\\.conda\\envs\\face\\lib\\site-packages (from tensorflow==2.4.1) (0.15.0)\n",
      "Requirement already satisfied: typing-extensions~=3.7.4 in c:\\users\\sumuk\\.conda\\envs\\face\\lib\\site-packages (from tensorflow==2.4.1) (3.7.4.3)\n",
      "Requirement already satisfied: google-pasta~=0.2 in c:\\users\\sumuk\\.conda\\envs\\face\\lib\\site-packages (from tensorflow==2.4.1) (0.2.0)\n",
      "Requirement already satisfied: flatbuffers~=1.12.0 in c:\\users\\sumuk\\.conda\\envs\\face\\lib\\site-packages (from tensorflow==2.4.1) (1.12)\n",
      "Requirement already satisfied: opt-einsum~=3.3.0 in c:\\users\\sumuk\\.conda\\envs\\face\\lib\\site-packages (from tensorflow==2.4.1) (3.3.0)\n",
      "Requirement already satisfied: six~=1.15.0 in c:\\users\\sumuk\\.conda\\envs\\face\\lib\\site-packages (from tensorflow==2.4.1) (1.15.0)\n",
      "Requirement already satisfied: wheel~=0.35 in c:\\users\\sumuk\\.conda\\envs\\face\\lib\\site-packages (from tensorflow==2.4.1) (0.38.4)\n",
      "Requirement already satisfied: wrapt~=1.12.1 in c:\\users\\sumuk\\.conda\\envs\\face\\lib\\site-packages (from tensorflow==2.4.1) (1.12.1)\n",
      "Requirement already satisfied: grpcio~=1.32.0 in c:\\users\\sumuk\\.conda\\envs\\face\\lib\\site-packages (from tensorflow==2.4.1) (1.32.0)\n",
      "Requirement already satisfied: tensorboard~=2.4 in c:\\users\\sumuk\\.conda\\envs\\face\\lib\\site-packages (from tensorflow==2.4.1) (2.11.2)\n",
      "Requirement already satisfied: termcolor~=1.1.0 in c:\\users\\sumuk\\.conda\\envs\\face\\lib\\site-packages (from tensorflow==2.4.1) (1.1.0)\n",
      "Requirement already satisfied: h5py~=2.10.0 in c:\\users\\sumuk\\.conda\\envs\\face\\lib\\site-packages (from tensorflow==2.4.1) (2.10.0)\n",
      "Requirement already satisfied: astunparse~=1.6.3 in c:\\users\\sumuk\\.conda\\envs\\face\\lib\\site-packages (from tensorflow==2.4.1) (1.6.3)\n",
      "Requirement already satisfied: numpy~=1.19.2 in c:\\users\\sumuk\\.conda\\envs\\face\\lib\\site-packages (from tensorflow==2.4.1) (1.19.5)\n",
      "Requirement already satisfied: protobuf>=3.9.2 in c:\\users\\sumuk\\.conda\\envs\\face\\lib\\site-packages (from tensorflow==2.4.1) (3.20.3)\n",
      "Requirement already satisfied: keras-preprocessing~=1.1.2 in c:\\users\\sumuk\\.conda\\envs\\face\\lib\\site-packages (from tensorflow==2.4.1) (1.1.2)\n",
      "Requirement already satisfied: pillow>=6.2.0 in c:\\users\\sumuk\\.conda\\envs\\face\\lib\\site-packages (from matplotlib) (9.5.0)\n",
      "Requirement already satisfied: fonttools>=4.22.0 in c:\\users\\sumuk\\.conda\\envs\\face\\lib\\site-packages (from matplotlib) (4.38.0)\n",
      "Requirement already satisfied: kiwisolver>=1.0.1 in c:\\users\\sumuk\\.conda\\envs\\face\\lib\\site-packages (from matplotlib) (1.4.4)\n",
      "Requirement already satisfied: cycler>=0.10 in c:\\users\\sumuk\\.conda\\envs\\face\\lib\\site-packages (from matplotlib) (0.11.0)\n",
      "Requirement already satisfied: pyparsing>=2.2.1 in c:\\users\\sumuk\\.conda\\envs\\face\\lib\\site-packages (from matplotlib) (3.1.0)\n",
      "Requirement already satisfied: python-dateutil>=2.7 in c:\\users\\sumuk\\.conda\\envs\\face\\lib\\site-packages (from matplotlib) (2.8.2)\n",
      "Requirement already satisfied: packaging>=20.0 in c:\\users\\sumuk\\.conda\\envs\\face\\lib\\site-packages (from matplotlib) (22.0)\n",
      "Requirement already satisfied: setuptools>=41.0.0 in c:\\users\\sumuk\\.conda\\envs\\face\\lib\\site-packages (from tensorboard~=2.4->tensorflow==2.4.1) (65.6.3)\n",
      "Requirement already satisfied: tensorboard-data-server<0.7.0,>=0.6.0 in c:\\users\\sumuk\\.conda\\envs\\face\\lib\\site-packages (from tensorboard~=2.4->tensorflow==2.4.1) (0.6.1)\n",
      "Requirement already satisfied: tensorboard-plugin-wit>=1.6.0 in c:\\users\\sumuk\\.conda\\envs\\face\\lib\\site-packages (from tensorboard~=2.4->tensorflow==2.4.1) (1.8.1)\n",
      "Requirement already satisfied: markdown>=2.6.8 in c:\\users\\sumuk\\.conda\\envs\\face\\lib\\site-packages (from tensorboard~=2.4->tensorflow==2.4.1) (3.4.3)\n",
      "Requirement already satisfied: google-auth<3,>=1.6.3 in c:\\users\\sumuk\\.conda\\envs\\face\\lib\\site-packages (from tensorboard~=2.4->tensorflow==2.4.1) (2.22.0)\n",
      "Requirement already satisfied: werkzeug>=1.0.1 in c:\\users\\sumuk\\.conda\\envs\\face\\lib\\site-packages (from tensorboard~=2.4->tensorflow==2.4.1) (2.2.3)\n",
      "Requirement already satisfied: requests<3,>=2.21.0 in c:\\users\\sumuk\\.conda\\envs\\face\\lib\\site-packages (from tensorboard~=2.4->tensorflow==2.4.1) (2.28.1)\n",
      "Requirement already satisfied: google-auth-oauthlib<0.5,>=0.4.1 in c:\\users\\sumuk\\.conda\\envs\\face\\lib\\site-packages (from tensorboard~=2.4->tensorflow==2.4.1) (0.4.6)\n",
      "Requirement already satisfied: rsa<5,>=3.1.4 in c:\\users\\sumuk\\.conda\\envs\\face\\lib\\site-packages (from google-auth<3,>=1.6.3->tensorboard~=2.4->tensorflow==2.4.1) (4.9)\n",
      "Requirement already satisfied: urllib3<2.0 in c:\\users\\sumuk\\.conda\\envs\\face\\lib\\site-packages (from google-auth<3,>=1.6.3->tensorboard~=2.4->tensorflow==2.4.1) (1.26.14)\n",
      "Requirement already satisfied: cachetools<6.0,>=2.0.0 in c:\\users\\sumuk\\.conda\\envs\\face\\lib\\site-packages (from google-auth<3,>=1.6.3->tensorboard~=2.4->tensorflow==2.4.1) (5.3.1)\n",
      "Requirement already satisfied: pyasn1-modules>=0.2.1 in c:\\users\\sumuk\\.conda\\envs\\face\\lib\\site-packages (from google-auth<3,>=1.6.3->tensorboard~=2.4->tensorflow==2.4.1) (0.3.0)\n",
      "Requirement already satisfied: requests-oauthlib>=0.7.0 in c:\\users\\sumuk\\.conda\\envs\\face\\lib\\site-packages (from google-auth-oauthlib<0.5,>=0.4.1->tensorboard~=2.4->tensorflow==2.4.1) (1.3.1)\n",
      "Requirement already satisfied: importlib-metadata>=4.4 in c:\\users\\sumuk\\.conda\\envs\\face\\lib\\site-packages (from markdown>=2.6.8->tensorboard~=2.4->tensorflow==2.4.1) (4.11.3)\n",
      "Requirement already satisfied: charset-normalizer<3,>=2 in c:\\users\\sumuk\\.conda\\envs\\face\\lib\\site-packages (from requests<3,>=2.21.0->tensorboard~=2.4->tensorflow==2.4.1) (2.0.4)\n",
      "Requirement already satisfied: certifi>=2017.4.17 in c:\\users\\sumuk\\.conda\\envs\\face\\lib\\site-packages (from requests<3,>=2.21.0->tensorboard~=2.4->tensorflow==2.4.1) (2022.12.7)\n",
      "Requirement already satisfied: idna<4,>=2.5 in c:\\users\\sumuk\\.conda\\envs\\face\\lib\\site-packages (from requests<3,>=2.21.0->tensorboard~=2.4->tensorflow==2.4.1) (3.4)\n",
      "Requirement already satisfied: MarkupSafe>=2.1.1 in c:\\users\\sumuk\\.conda\\envs\\face\\lib\\site-packages (from werkzeug>=1.0.1->tensorboard~=2.4->tensorflow==2.4.1) (2.1.1)\n",
      "Requirement already satisfied: zipp>=0.5 in c:\\users\\sumuk\\.conda\\envs\\face\\lib\\site-packages (from importlib-metadata>=4.4->markdown>=2.6.8->tensorboard~=2.4->tensorflow==2.4.1) (3.11.0)\n",
      "Requirement already satisfied: pyasn1<0.6.0,>=0.4.6 in c:\\users\\sumuk\\.conda\\envs\\face\\lib\\site-packages (from pyasn1-modules>=0.2.1->google-auth<3,>=1.6.3->tensorboard~=2.4->tensorflow==2.4.1) (0.5.0)\n",
      "Requirement already satisfied: oauthlib>=3.0.0 in c:\\users\\sumuk\\.conda\\envs\\face\\lib\\site-packages (from requests-oauthlib>=0.7.0->google-auth-oauthlib<0.5,>=0.4.1->tensorboard~=2.4->tensorflow==2.4.1) (3.2.2)\n"
     ]
    }
   ],
   "source": [
    "#INSTALL DEPENDENCIES\n",
    "!pip install tensorflow==2.4.1 tensorflow-gpu==2.4.1 opencv-python matplotlib"
   ]
  },
  {
   "cell_type": "code",
   "execution_count": 2,
   "id": "abeaf0fa",
   "metadata": {},
   "outputs": [],
   "source": [
    "#IMPORT DEPENDENCIES\n",
    "import cv2\n",
    "import os\n",
    "import random\n",
    "import numpy as np\n",
    "from matplotlib import pyplot as plt"
   ]
  },
  {
   "cell_type": "code",
   "execution_count": 3,
   "id": "732f5c18",
   "metadata": {},
   "outputs": [],
   "source": [
    "#SETUP DEPENDENCIES\n",
    "from tensorflow.keras.models import Model\n",
    "from tensorflow.keras.layers import Layer, Conv2D, Dense, MaxPooling2D, Input, Flatten\n",
    "import tensorflow as tf"
   ]
  },
  {
   "cell_type": "code",
   "execution_count": 4,
   "id": "cb1b086f",
   "metadata": {},
   "outputs": [],
   "source": [
    "#SETUP GPU\n",
    "gpus = tf.config.experimental.list_physical_devices('GPU')\n",
    "for gpu in gpus:\n",
    "    tf.config.experimental.set_memory_growth(gpu,True)\n",
    "    "
   ]
  },
  {
   "cell_type": "code",
   "execution_count": 5,
   "id": "8b158599",
   "metadata": {},
   "outputs": [
    {
     "data": {
      "text/plain": [
       "0"
      ]
     },
     "execution_count": 5,
     "metadata": {},
     "output_type": "execute_result"
    }
   ],
   "source": [
    "len(gpus)"
   ]
  },
  {
   "cell_type": "code",
   "execution_count": 6,
   "id": "31ff5752",
   "metadata": {},
   "outputs": [],
   "source": [
    "#CREATE FOLDERS\n",
    "POS_PATH = os.path.join('data','positive')\n",
    "NEG_PATH = os.path.join('data','negative')\n",
    "ANC_PATH = os.path.join('data','anchor')"
   ]
  },
  {
   "cell_type": "code",
   "execution_count": 7,
   "id": "bbbaac32",
   "metadata": {},
   "outputs": [],
   "source": [
    "os.makedirs(POS_PATH)\n",
    "os.makedirs(NEG_PATH)\n",
    "os.makedirs(ANC_PATH)"
   ]
  },
  {
   "cell_type": "code",
   "execution_count": 10,
   "id": "f975935d",
   "metadata": {},
   "outputs": [],
   "source": [
    "#ADD NEGATIVE IMAGES\n",
    "for directory in os.listdir('lfw'):\n",
    "    for file in os.listdir(os.path.join('lfw',directory)):\n",
    "        EX_PATH = os.path.join('lfw',directory,file)\n",
    "        NEW_PATH = os.path.join(NEG_PATH,file)\n",
    "        os.replace(EX_PATH,NEW_PATH)"
   ]
  },
  {
   "cell_type": "code",
   "execution_count": 7,
   "id": "98fcefa4",
   "metadata": {},
   "outputs": [],
   "source": [
    "import uuid"
   ]
  },
  {
   "cell_type": "code",
   "execution_count": 58,
   "id": "98b9c099",
   "metadata": {},
   "outputs": [],
   "source": [
    "#ESTABLISH A CONNETION TO THE WEBCAM\n",
    "cap = cv2.VideoCapture(0)\n",
    "\n",
    "while cap.isOpened():\n",
    "    ret, frame = cap.read()\n",
    "    \n",
    "    frame = frame[100:100+250,200:200+250,:]\n",
    "    \n",
    "    if cv2.waitKey(1) & 0XFF == ord('a'):\n",
    "        imgname = os.path.join(ANC_PATH, '{}.jpg'.format(uuid.uuid1()))\n",
    "        cv2.imwrite(imgname, frame)\n",
    "    \n",
    "    if cv2.waitKey(1) & 0XFF == ord('p'):\n",
    "        imgname = os.path.join(POS_PATH, '{}.jpg'.format(uuid.uuid1()))\n",
    "        cv2.imwrite(imgname, frame)\n",
    "        \n",
    "    cv2.imshow('Image Collection', frame)\n",
    "    \n",
    "    if cv2.waitKey(1) & 0XFF == ord('q'):\n",
    "        break\n",
    "cap.release()\n",
    "cv2.destroyAllWindows()\n",
    "    "
   ]
  },
  {
   "cell_type": "code",
   "execution_count": 8,
   "id": "9380ee0e",
   "metadata": {},
   "outputs": [
    {
     "ename": "NameError",
     "evalue": "name 'frame' is not defined",
     "output_type": "error",
     "traceback": [
      "\u001b[1;31m---------------------------------------------------------------------------\u001b[0m",
      "\u001b[1;31mNameError\u001b[0m                                 Traceback (most recent call last)",
      "\u001b[1;32m~\\AppData\\Local\\Temp\\ipykernel_2684\\3024757553.py\u001b[0m in \u001b[0;36m<module>\u001b[1;34m\u001b[0m\n\u001b[1;32m----> 1\u001b[1;33m \u001b[0mplt\u001b[0m\u001b[1;33m.\u001b[0m\u001b[0mimshow\u001b[0m\u001b[1;33m(\u001b[0m\u001b[0mframe\u001b[0m\u001b[1;33m[\u001b[0m\u001b[1;33m:\u001b[0m\u001b[1;33m,\u001b[0m\u001b[1;33m:\u001b[0m\u001b[1;33m,\u001b[0m\u001b[1;33m:\u001b[0m\u001b[1;33m]\u001b[0m\u001b[1;33m)\u001b[0m\u001b[1;33m\u001b[0m\u001b[1;33m\u001b[0m\u001b[0m\n\u001b[0m",
      "\u001b[1;31mNameError\u001b[0m: name 'frame' is not defined"
     ]
    }
   ],
   "source": [
    "plt.imshow(frame[:,:,:])"
   ]
  },
  {
   "cell_type": "code",
   "execution_count": 61,
   "id": "23605a46",
   "metadata": {},
   "outputs": [],
   "source": [
    "#Load and Preprocess Images"
   ]
  },
  {
   "cell_type": "code",
   "execution_count": 9,
   "id": "5c970003",
   "metadata": {},
   "outputs": [],
   "source": [
    "#Get image directories\n",
    "anchor = tf.data.Dataset.list_files(ANC_PATH+'\\*.jpg').take(300)\n",
    "positive = tf.data.Dataset.list_files(POS_PATH+'\\*.jpg').take(300)\n",
    "negative = tf.data.Dataset.list_files(NEG_PATH+'\\*.jpg').take(300)"
   ]
  },
  {
   "cell_type": "code",
   "execution_count": 10,
   "id": "5721ab7a",
   "metadata": {},
   "outputs": [],
   "source": [
    "dir_test = anchor.as_numpy_iterator()"
   ]
  },
  {
   "cell_type": "code",
   "execution_count": 11,
   "id": "d9788dfb",
   "metadata": {},
   "outputs": [
    {
     "data": {
      "text/plain": [
       "b'data\\\\anchor\\\\33544ede-20a2-11ee-b6c7-004238ccdd40.jpg'"
      ]
     },
     "execution_count": 11,
     "metadata": {},
     "output_type": "execute_result"
    }
   ],
   "source": [
    "dir_test.next()"
   ]
  },
  {
   "cell_type": "code",
   "execution_count": 12,
   "id": "2a9283e8",
   "metadata": {},
   "outputs": [],
   "source": [
    "#Preprocessing - Scale and Resize\n",
    "def preprocess(file_path):\n",
    "    \n",
    "    #Reading the image from file path\n",
    "    byte_img = tf.io.read_file(file_path)\n",
    "    #loading the image\n",
    "    img = tf.io.decode_jpeg(byte_img)\n",
    "    #preprocessing steps - resizing the image to 100x100x3\n",
    "    img = tf.image.resize(img,(100,100))\n",
    "    #scale image to be between 0 and 1\n",
    "    img = img/255.0\n",
    "    return img"
   ]
  },
  {
   "cell_type": "code",
   "execution_count": 13,
   "id": "cb8ec9ee",
   "metadata": {},
   "outputs": [],
   "source": [
    "img = preprocess('data\\\\anchor\\\\32aa29cc-20a3-11ee-a327-004238ccdd40.jpg')"
   ]
  },
  {
   "cell_type": "code",
   "execution_count": 14,
   "id": "80234794",
   "metadata": {},
   "outputs": [
    {
     "data": {
      "text/plain": [
       "0.9286765"
      ]
     },
     "execution_count": 14,
     "metadata": {},
     "output_type": "execute_result"
    }
   ],
   "source": [
    "img.numpy().max()"
   ]
  },
  {
   "cell_type": "code",
   "execution_count": 15,
   "id": "7c69bac3",
   "metadata": {},
   "outputs": [
    {
     "data": {
      "text/plain": [
       "<matplotlib.image.AxesImage at 0x1c07c5bb550>"
      ]
     },
     "execution_count": 15,
     "metadata": {},
     "output_type": "execute_result"
    },
    {
     "data": {
      "image/png": "[encoded data removed]",
      "text/plain": [
       "<Figure size 640x480 with 1 Axes>"
      ]
     },
     "metadata": {},
     "output_type": "display_data"
    }
   ],
   "source": [
    "plt.imshow(img)"
   ]
  },
  {
   "cell_type": "code",
   "execution_count": 18,
   "id": "37621a32",
   "metadata": {},
   "outputs": [],
   "source": [
    "# dataset.map(preprocess)"
   ]
  },
  {
   "cell_type": "code",
   "execution_count": 74,
   "id": "2a30c6cc",
   "metadata": {},
   "outputs": [],
   "source": [
    "# (anchor, positive) => 1,1,1,1,1\n",
    "# (anchor, negative) => 0,0,0,0,0"
   ]
  },
  {
   "cell_type": "code",
   "execution_count": 16,
   "id": "4f027241",
   "metadata": {},
   "outputs": [],
   "source": [
    "positives = tf.data.Dataset.zip((anchor, positive, tf.data.Dataset.from_tensor_slices(tf.ones(len(anchor)))))\n",
    "negatives = tf.data.Dataset.zip((anchor, negative, tf.data.Dataset.from_tensor_slices(tf.zeros(len(anchor)))))\n",
    "data = positives.concatenate(negatives)"
   ]
  },
  {
   "cell_type": "code",
   "execution_count": 17,
   "id": "5fbad6b2",
   "metadata": {},
   "outputs": [],
   "source": [
    "samples = data.as_numpy_iterator()"
   ]
  },
  {
   "cell_type": "code",
   "execution_count": 18,
   "id": "0180aed9",
   "metadata": {},
   "outputs": [],
   "source": [
    "example = samples.next()"
   ]
  },
  {
   "cell_type": "code",
   "execution_count": 19,
   "id": "a1ccf622",
   "metadata": {},
   "outputs": [
    {
     "data": {
      "text/plain": [
       "(b'data\\\\anchor\\\\2d795e90-20a2-11ee-943b-004238ccdd40.jpg',\n",
       " b'data\\\\positive\\\\c242749c-20a3-11ee-8d65-004238ccdd40.jpg',\n",
       " 1.0)"
      ]
     },
     "execution_count": 19,
     "metadata": {},
     "output_type": "execute_result"
    }
   ],
   "source": [
    "example"
   ]
  },
  {
   "cell_type": "code",
   "execution_count": 20,
   "id": "d2ca8637",
   "metadata": {},
   "outputs": [],
   "source": [
    "#Build Train and Test Partition\n",
    "\n",
    "def preprocess_twin(input_img, validation_img, label):\n",
    "    return (preprocess(input_img), preprocess(validation_img), label)"
   ]
  },
  {
   "cell_type": "code",
   "execution_count": 21,
   "id": "b2fa3fe0",
   "metadata": {},
   "outputs": [],
   "source": [
    "res = preprocess_twin(*example)"
   ]
  },
  {
   "cell_type": "code",
   "execution_count": 22,
   "id": "5cf23f9f",
   "metadata": {},
   "outputs": [
    {
     "data": {
      "text/plain": [
       "<matplotlib.image.AxesImage at 0x1c07c638128>"
      ]
     },
     "execution_count": 22,
     "metadata": {},
     "output_type": "execute_result"
    },
    {
     "data": {
      "image/png": "[encoded data removed]",
      "text/plain": [
       "<Figure size 640x480 with 1 Axes>"
      ]
     },
     "metadata": {},
     "output_type": "display_data"
    }
   ],
   "source": [
    "plt.imshow(res[1])"
   ]
  },
  {
   "cell_type": "code",
   "execution_count": 23,
   "id": "849ae27e",
   "metadata": {},
   "outputs": [
    {
     "data": {
      "text/plain": [
       "1.0"
      ]
     },
     "execution_count": 23,
     "metadata": {},
     "output_type": "execute_result"
    }
   ],
   "source": [
    "res[2]"
   ]
  },
  {
   "cell_type": "code",
   "execution_count": 24,
   "id": "89db1d68",
   "metadata": {},
   "outputs": [],
   "source": [
    "#Build dataloader pipeline\n",
    "data = data.map(preprocess_twin)\n",
    "data = data.cache()\n",
    "data = data.shuffle(buffer_size=1024)"
   ]
  },
  {
   "cell_type": "code",
   "execution_count": 25,
   "id": "27423b1b",
   "metadata": {},
   "outputs": [],
   "source": [
    "#Training Partition\n",
    "train_data = data.take(round(len(data)*.7))\n",
    "train_data = train_data.batch(16)\n",
    "train_data = train_data.prefetch(8)"
   ]
  },
  {
   "cell_type": "code",
   "execution_count": 26,
   "id": "642e67e9",
   "metadata": {},
   "outputs": [],
   "source": [
    "#Testing Partition\n",
    "test_data = data.skip(round(len(data)*.7))\n",
    "test_data = test_data.take(round(len(data)*.3))\n",
    "test_data = test_data.batch(16)\n",
    "test_data = test_data.prefetch(8)"
   ]
  },
  {
   "cell_type": "code",
   "execution_count": 1,
   "id": "b2051b5c",
   "metadata": {},
   "outputs": [],
   "source": [
    "#Build Embedding Layer"
   ]
  },
  {
   "cell_type": "code",
   "execution_count": 27,
   "id": "1ea46c58",
   "metadata": {},
   "outputs": [],
   "source": [
    "inp = Input(shape=(105,105,3),name='input_image')"
   ]
  },
  {
   "cell_type": "code",
   "execution_count": 28,
   "id": "ee0eaf74",
   "metadata": {},
   "outputs": [
    {
     "data": {
      "text/plain": [
       "<KerasTensor: shape=(None, 105, 105, 3) dtype=float32 (created by layer 'input_image')>"
      ]
     },
     "execution_count": 28,
     "metadata": {},
     "output_type": "execute_result"
    }
   ],
   "source": [
    "inp"
   ]
  },
  {
   "cell_type": "code",
   "execution_count": 29,
   "id": "f4575bea",
   "metadata": {},
   "outputs": [],
   "source": [
    "c1 = Conv2D(64,(10,10),activation='relu')(inp)\n",
    "m1 = MaxPooling2D(64,(2,2),padding='same')(c1) #padding='same' is discovered while coding"
   ]
  },
  {
   "cell_type": "code",
   "execution_count": 30,
   "id": "4c3e1804",
   "metadata": {},
   "outputs": [
    {
     "data": {
      "text/plain": [
       "<KerasTensor: shape=(None, 96, 96, 64) dtype=float32 (created by layer 'conv2d')>"
      ]
     },
     "execution_count": 30,
     "metadata": {},
     "output_type": "execute_result"
    }
   ],
   "source": [
    "c1"
   ]
  },
  {
   "cell_type": "code",
   "execution_count": 31,
   "id": "26bc8d4d",
   "metadata": {},
   "outputs": [],
   "source": [
    "c2 = Conv2D(128,(7,7), activation = 'relu')(m1)\n",
    "m2 = MaxPooling2D(64,(2,2),padding='same')(c2)"
   ]
  },
  {
   "cell_type": "code",
   "execution_count": 33,
   "id": "13be914f",
   "metadata": {},
   "outputs": [
    {
     "data": {
      "text/plain": [
       "<KerasTensor: shape=(None, 21, 21, 128) dtype=float32 (created by layer 'max_pooling2d_1')>"
      ]
     },
     "execution_count": 33,
     "metadata": {},
     "output_type": "execute_result"
    }
   ],
   "source": [
    "m2"
   ]
  },
  {
   "cell_type": "code",
   "execution_count": 32,
   "id": "37e129d5",
   "metadata": {},
   "outputs": [],
   "source": [
    "c3 = Conv2D(128,(4,4), activation = 'relu')(m2)\n",
    "m3 = MaxPooling2D(64,(2,2), padding='same')(c3)"
   ]
  },
  {
   "cell_type": "code",
   "execution_count": 34,
   "id": "df75e1e0",
   "metadata": {},
   "outputs": [
    {
     "data": {
      "text/plain": [
       "<KerasTensor: shape=(None, 9, 9, 128) dtype=float32 (created by layer 'max_pooling2d_2')>"
      ]
     },
     "execution_count": 34,
     "metadata": {},
     "output_type": "execute_result"
    }
   ],
   "source": [
    "m3"
   ]
  },
  {
   "cell_type": "code",
   "execution_count": 35,
   "id": "92020ae0",
   "metadata": {},
   "outputs": [],
   "source": [
    "c4 = Conv2D(256,(4,4),activation = 'relu')(m3)\n",
    "f1 = Flatten()(c4)\n",
    "d1 = Dense(4096, activation='sigmoid')(f1)"
   ]
  },
  {
   "cell_type": "code",
   "execution_count": 36,
   "id": "c1901cce",
   "metadata": {},
   "outputs": [
    {
     "data": {
      "text/plain": [
       "<KerasTensor: shape=(None, 6, 6, 256) dtype=float32 (created by layer 'conv2d_3')>"
      ]
     },
     "execution_count": 36,
     "metadata": {},
     "output_type": "execute_result"
    }
   ],
   "source": [
    "c4"
   ]
  },
  {
   "cell_type": "code",
   "execution_count": 37,
   "id": "d19682f6",
   "metadata": {},
   "outputs": [],
   "source": [
    "def make_embedding():\n",
    "    inp = Input(shape=(100,100,3),name='input_image')\n",
    "    \n",
    "    #First block\n",
    "    c1 = Conv2D(64,(10,10),activation='relu')(inp)\n",
    "    m1 = MaxPooling2D(64,(2,2),padding='same')(c1) #padding='same' is discovered while coding\n",
    "    \n",
    "    #Second block\n",
    "    c2 = Conv2D(128,(7,7), activation = 'relu')(m1)\n",
    "    m2 = MaxPooling2D(64,(2,2),padding='same')(c2)\n",
    "    \n",
    "    #Third block\n",
    "    c3 = Conv2D(128,(4,4), activation = 'relu')(m2)\n",
    "    m3 = MaxPooling2D(64,(2,2), padding='same')(c3)\n",
    "    \n",
    "    #Final embedding block\n",
    "    c4 = Conv2D(256,(4,4),activation = 'relu')(m3)\n",
    "    f1 = Flatten()(c4)\n",
    "    d1 = Dense(4096, activation='sigmoid')(f1)\n",
    "    \n",
    "    return Model(inputs=[inp], outputs=[d1], name='embedding')"
   ]
  },
  {
   "cell_type": "code",
   "execution_count": 38,
   "id": "1d628f87",
   "metadata": {},
   "outputs": [],
   "source": [
    "embedding = make_embedding()"
   ]
  },
  {
   "cell_type": "code",
   "execution_count": 39,
   "id": "9276e88f",
   "metadata": {},
   "outputs": [
    {
     "name": "stdout",
     "output_type": "stream",
     "text": [
      "Model: \"embedding\"\n",
      "_________________________________________________________________\n",
      "Layer (type)                 Output Shape              Param #   \n",
      "=================================================================\n",
      "input_image (InputLayer)     [(None, 100, 100, 3)]     0         \n",
      "_________________________________________________________________\n",
      "conv2d_4 (Conv2D)            (None, 91, 91, 64)        19264     \n",
      "_________________________________________________________________\n",
      "max_pooling2d_3 (MaxPooling2 (None, 46, 46, 64)        0         \n",
      "_________________________________________________________________\n",
      "conv2d_5 (Conv2D)            (None, 40, 40, 128)       401536    \n",
      "_________________________________________________________________\n",
      "max_pooling2d_4 (MaxPooling2 (None, 20, 20, 128)       0         \n",
      "_________________________________________________________________\n",
      "conv2d_6 (Conv2D)            (None, 17, 17, 128)       262272    \n",
      "_________________________________________________________________\n",
      "max_pooling2d_5 (MaxPooling2 (None, 9, 9, 128)         0         \n",
      "_________________________________________________________________\n",
      "conv2d_7 (Conv2D)            (None, 6, 6, 256)         524544    \n",
      "_________________________________________________________________\n",
      "flatten_1 (Flatten)          (None, 9216)              0         \n",
      "_________________________________________________________________\n",
      "dense_1 (Dense)              (None, 4096)              37752832  \n",
      "=================================================================\n",
      "Total params: 38,960,448\n",
      "Trainable params: 38,960,448\n",
      "Non-trainable params: 0\n",
      "_________________________________________________________________\n"
     ]
    }
   ],
   "source": [
    "embedding.summary()"
   ]
  },
  {
   "cell_type": "code",
   "execution_count": 64,
   "id": "fc3beea4",
   "metadata": {},
   "outputs": [],
   "source": [
    "#Build distance layer"
   ]
  },
  {
   "cell_type": "code",
   "execution_count": 40,
   "id": "b9bcccd7",
   "metadata": {},
   "outputs": [],
   "source": [
    "class L1Dist(Layer):\n",
    "    #Inheriting layer\n",
    "    def __init__(self, **kwargs):\n",
    "        super().__init__()\n",
    "    \n",
    "    #similarity calculation\n",
    "    def call(self, input_embedding, validation_embedding):\n",
    "        return tf.math.abs(input_embedding - validation_embedding)"
   ]
  },
  {
   "cell_type": "code",
   "execution_count": 41,
   "id": "ddf151eb",
   "metadata": {},
   "outputs": [],
   "source": [
    "l1 = L1Dist()"
   ]
  },
  {
   "cell_type": "code",
   "execution_count": 42,
   "id": "4b88e829",
   "metadata": {},
   "outputs": [],
   "source": [
    "input_image = Input(name='input_img', shape=(100,100,3))\n",
    "validation_image = Input(name='validation_img', shape=(100,100,3))"
   ]
  },
  {
   "cell_type": "code",
   "execution_count": 43,
   "id": "6b38f61c",
   "metadata": {},
   "outputs": [],
   "source": [
    "inp_embedding = embedding(input_image)\n",
    "val_embedding = embedding(validation_image)"
   ]
  },
  {
   "cell_type": "code",
   "execution_count": 44,
   "id": "ecc46c41",
   "metadata": {},
   "outputs": [],
   "source": [
    "def make_siamese_model():\n",
    "    \n",
    "    #anchor image input in the network\n",
    "    input_image = Input(name='input_img', shape=(100,100,3))\n",
    "    \n",
    "    #validation image in the network\n",
    "    validation_image = Input(name='validation_img', shape=(100,100,3))\n",
    "    \n",
    "    #combine siamese distance components\n",
    "    siamese_layer = L1Dist()\n",
    "    siamese_layer._name = 'distance'\n",
    "    distances = siamese_layer(embedding(input_image), embedding(validation_image))\n",
    "    \n",
    "    #Classification Layer\n",
    "    classifier = Dense(1, activation='sigmoid')(distances)\n",
    "    \n",
    "    return Model(inputs=[input_image, validation_image], outputs=classifier, name='SiameseNetwork')"
   ]
  },
  {
   "cell_type": "code",
   "execution_count": 45,
   "id": "f5858f48",
   "metadata": {},
   "outputs": [],
   "source": [
    "siamese_model = make_siamese_model()"
   ]
  },
  {
   "cell_type": "code",
   "execution_count": 46,
   "id": "05eca079",
   "metadata": {},
   "outputs": [
    {
     "name": "stdout",
     "output_type": "stream",
     "text": [
      "Model: \"SiameseNetwork\"\n",
      "__________________________________________________________________________________________________\n",
      "Layer (type)                    Output Shape         Param #     Connected to                     \n",
      "==================================================================================================\n",
      "input_img (InputLayer)          [(None, 100, 100, 3) 0                                            \n",
      "__________________________________________________________________________________________________\n",
      "validation_img (InputLayer)     [(None, 100, 100, 3) 0                                            \n",
      "__________________________________________________________________________________________________\n",
      "embedding (Functional)          (None, 4096)         38960448    input_img[0][0]                  \n",
      "                                                                 validation_img[0][0]             \n",
      "__________________________________________________________________________________________________\n",
      "distance (L1Dist)               (None, 4096)         0           embedding[2][0]                  \n",
      "                                                                 embedding[3][0]                  \n",
      "__________________________________________________________________________________________________\n",
      "dense_2 (Dense)                 (None, 1)            4097        distance[0][0]                   \n",
      "==================================================================================================\n",
      "Total params: 38,964,545\n",
      "Trainable params: 38,964,545\n",
      "Non-trainable params: 0\n",
      "__________________________________________________________________________________________________\n"
     ]
    }
   ],
   "source": [
    "siamese_model.summary()"
   ]
  },
  {
   "cell_type": "code",
   "execution_count": null,
   "id": "97693e76",
   "metadata": {},
   "outputs": [],
   "source": [
    "#Training"
   ]
  },
  {
   "cell_type": "code",
   "execution_count": null,
   "id": "ab24ba6c",
   "metadata": {},
   "outputs": [],
   "source": [
    "#Setup loss and Optimizer"
   ]
  },
  {
   "cell_type": "code",
   "execution_count": 47,
   "id": "ff353b23",
   "metadata": {},
   "outputs": [],
   "source": [
    "binary_cross_loss = tf.losses.BinaryCrossentropy()"
   ]
  },
  {
   "cell_type": "code",
   "execution_count": 49,
   "id": "9c28de40",
   "metadata": {},
   "outputs": [],
   "source": [
    "opt = tf.keras.optimizers.Adam(1e-4) #0.001"
   ]
  },
  {
   "cell_type": "code",
   "execution_count": 50,
   "id": "3331d51c",
   "metadata": {},
   "outputs": [],
   "source": [
    "#Establish Check points"
   ]
  },
  {
   "cell_type": "code",
   "execution_count": 52,
   "id": "ac0e2b2d",
   "metadata": {},
   "outputs": [],
   "source": [
    "checkpoint_dir = './training_checkpoints'\n",
    "checkpoint_prefix = os.path.join(checkpoint_dir,'ckpt')\n",
    "# print(checkpoint_prefix)\n",
    "checkpoint = tf.train.Checkpoint(opt=opt, siamese_model=siamese_model)"
   ]
  },
  {
   "cell_type": "code",
   "execution_count": 53,
   "id": "f12533c2",
   "metadata": {},
   "outputs": [],
   "source": [
    "test_batch = train_data.as_numpy_iterator()"
   ]
  },
  {
   "cell_type": "code",
   "execution_count": 54,
   "id": "8c56f2e4",
   "metadata": {},
   "outputs": [],
   "source": [
    "batch_1 = test_batch.next()"
   ]
  },
  {
   "cell_type": "code",
   "execution_count": 65,
   "id": "86ef4862",
   "metadata": {},
   "outputs": [
    {
     "name": "stdout",
     "output_type": "stream",
     "text": [
      "(array([[[[0.84705883, 0.72156864, 0.8156863 ],\n",
      "         [0.8480392 , 0.7245098 , 0.8186275 ],\n",
      "         [0.8382353 , 0.7205882 , 0.8147059 ],\n",
      "         ...,\n",
      "         [0.7754902 , 0.654902  , 0.46764705],\n",
      "         [0.77254903, 0.654902  , 0.45294118],\n",
      "         [0.7737745 , 0.65612745, 0.4522059 ]],\n",
      "\n",
      "        [[0.84607846, 0.7205882 , 0.8147059 ],\n",
      "         [0.845098  , 0.72156864, 0.8156863 ],\n",
      "         [0.84313726, 0.7254902 , 0.81960785],\n",
      "         ...,\n",
      "         [0.7732843 , 0.6517157 , 0.46740195],\n",
      "         [0.7747549 , 0.65686274, 0.4615196 ],\n",
      "         [0.7747549 , 0.65710783, 0.45318627]],\n",
      "\n",
      "        [[0.84705883, 0.72156864, 0.8156863 ],\n",
      "         [0.84583336, 0.7223039 , 0.81642157],\n",
      "         [0.842402  , 0.7247549 , 0.8188726 ],\n",
      "         ...,\n",
      "         [0.77843136, 0.65686274, 0.47549018],\n",
      "         [0.7703431 , 0.6517157 , 0.45857844],\n",
      "         [0.77254903, 0.654902  , 0.4509804 ]],\n",
      "\n",
      "        ...,\n",
      "\n",
      "        [[0.40416667, 0.4237745 , 0.57279414],\n",
      "         [0.39828432, 0.42083332, 0.5688726 ],\n",
      "         [0.38406864, 0.4132353 , 0.5590686 ],\n",
      "         ...,\n",
      "         [0.3752451 , 0.44387254, 0.5830882 ],\n",
      "         [0.38578433, 0.44632354, 0.577451  ],\n",
      "         [0.39313725, 0.45294118, 0.58161765]],\n",
      "\n",
      "        [[0.38455883, 0.41299018, 0.5590686 ],\n",
      "         [0.3747549 , 0.40759805, 0.55196077],\n",
      "         [0.37279412, 0.41004902, 0.55220586],\n",
      "         ...,\n",
      "         [0.36740196, 0.4375    , 0.5781863 ],\n",
      "         [0.37254903, 0.44117647, 0.5803922 ],\n",
      "         [0.38946077, 0.4610294 , 0.59142154]],\n",
      "\n",
      "        [[0.3745098 , 0.40588236, 0.5509804 ],\n",
      "         [0.3617647 , 0.40098038, 0.5421569 ],\n",
      "         [0.35514706, 0.39436275, 0.5355392 ],\n",
      "         ...,\n",
      "         [0.35980392, 0.4362745 , 0.5745098 ],\n",
      "         [0.36960784, 0.44019607, 0.58137256],\n",
      "         [0.3745098 , 0.44509804, 0.5862745 ]]],\n",
      "\n",
      "\n",
      "       [[[0.86764705, 0.75      , 0.84411764],\n",
      "         [0.87058824, 0.7529412 , 0.84705883],\n",
      "         [0.86985296, 0.7522059 , 0.84632355],\n",
      "         ...,\n",
      "         [0.7911765 , 0.6813725 , 0.49117646],\n",
      "         [0.785049  , 0.6781863 , 0.4732843 ],\n",
      "         [0.7852941 , 0.67941177, 0.46372548]],\n",
      "\n",
      "        [[0.87083334, 0.7531863 , 0.8473039 ],\n",
      "         [0.8666667 , 0.7490196 , 0.84313726],\n",
      "         [0.86960787, 0.7519608 , 0.84607846],\n",
      "         ...,\n",
      "         [0.79607844, 0.6754902 , 0.4882353 ],\n",
      "         [0.7970588 , 0.67941177, 0.47745097],\n",
      "         [0.8009804 , 0.68333334, 0.4715686 ]],\n",
      "\n",
      "        [[0.86764705, 0.75      , 0.84411764],\n",
      "         [0.86764705, 0.75      , 0.84411764],\n",
      "         [0.87058824, 0.7529412 , 0.84705883],\n",
      "         ...,\n",
      "         [0.79901963, 0.6784314 , 0.49117646],\n",
      "         [0.7992647 , 0.6816176 , 0.47965688],\n",
      "         [0.8       , 0.68235296, 0.47058824]],\n",
      "\n",
      "        ...,\n",
      "\n",
      "        [[0.39436275, 0.4257353 , 0.5708333 ],\n",
      "         [0.39509803, 0.42843136, 0.56960785],\n",
      "         [0.38357842, 0.425     , 0.5625    ],\n",
      "         ...,\n",
      "         [0.36887255, 0.44093138, 0.58137256],\n",
      "         [0.37696078, 0.44313726, 0.58431375],\n",
      "         [0.38431373, 0.4490196 , 0.5901961 ]],\n",
      "\n",
      "        [[0.38357842, 0.42083332, 0.5629902 ],\n",
      "         [0.37916666, 0.41838235, 0.5595588 ],\n",
      "         [0.37107843, 0.42132354, 0.5588235 ],\n",
      "         ...,\n",
      "         [0.3622549 , 0.44681373, 0.58210784],\n",
      "         [0.3718137 , 0.44828433, 0.5865196 ],\n",
      "         [0.38627452, 0.4627451 , 0.6009804 ]],\n",
      "\n",
      "        [[0.3781863 , 0.41740197, 0.55857843],\n",
      "         [0.37058824, 0.4127451 , 0.5529412 ],\n",
      "         [0.35710785, 0.4110294 , 0.5541667 ],\n",
      "         ...,\n",
      "         [0.35171568, 0.44191176, 0.5752451 ],\n",
      "         [0.37058824, 0.45196077, 0.5882353 ],\n",
      "         [0.38137254, 0.4598039 , 0.59705883]]],\n",
      "\n",
      "\n",
      "       [[[0.8392157 , 0.72156864, 0.8156863 ],\n",
      "         [0.8394608 , 0.72181374, 0.8159314 ],\n",
      "         [0.84313726, 0.7254902 , 0.81960785],\n",
      "         ...,\n",
      "         [0.78112745, 0.6605392 , 0.4732843 ],\n",
      "         [0.7754902 , 0.6578431 , 0.45588234],\n",
      "         [0.7708333 , 0.66495097, 0.45710784]],\n",
      "\n",
      "        [[0.84705883, 0.7294118 , 0.8235294 ],\n",
      "         [0.84705883, 0.7294118 , 0.8235294 ],\n",
      "         [0.8502451 , 0.73259807, 0.8267157 ],\n",
      "         ...,\n",
      "         [0.7764706 , 0.65857846, 0.47058824],\n",
      "         [0.777451  , 0.6669118 , 0.4627451 ],\n",
      "         [0.78039217, 0.6627451 , 0.45882353]],\n",
      "\n",
      "        [[0.8401961 , 0.722549  , 0.81666666],\n",
      "         [0.8401961 , 0.722549  , 0.81666666],\n",
      "         [0.84411764, 0.7264706 , 0.82058823],\n",
      "         ...,\n",
      "         [0.7727941 , 0.6629902 , 0.47279412],\n",
      "         [0.7681373 , 0.65906864, 0.45490196],\n",
      "         [0.76666665, 0.6490196 , 0.44509804]],\n",
      "\n",
      "        ...,\n",
      "\n",
      "        [[0.41691175, 0.3502451 , 0.31887254],\n",
      "         [0.40710783, 0.33848038, 0.30808824],\n",
      "         [0.39411765, 0.32107842, 0.29583332],\n",
      "         ...,\n",
      "         [0.35539216, 0.42745098, 0.56789213],\n",
      "         [0.35710785, 0.42769608, 0.5688726 ],\n",
      "         [0.3647059 , 0.43823528, 0.57058823]],\n",
      "\n",
      "        [[0.41985294, 0.35318628, 0.32181373],\n",
      "         [0.40245098, 0.33529413, 0.30490196],\n",
      "         [0.39338234, 0.3240196 , 0.30318627],\n",
      "         ...,\n",
      "         [0.3502451 , 0.42818627, 0.57009804],\n",
      "         [0.35784313, 0.4343137 , 0.57254905],\n",
      "         [0.37156862, 0.4480392 , 0.5862745 ]],\n",
      "\n",
      "        [[0.4107843 , 0.34411764, 0.3127451 ],\n",
      "         [0.3992647 , 0.33259803, 0.3022059 ],\n",
      "         [0.38039216, 0.31960785, 0.29803923],\n",
      "         ...,\n",
      "         [0.34387255, 0.42818627, 0.5732843 ],\n",
      "         [0.35196078, 0.43039215, 0.5754902 ],\n",
      "         [0.35882354, 0.4372549 , 0.5745098 ]]],\n",
      "\n",
      "\n",
      "       ...,\n",
      "\n",
      "\n",
      "       [[[0.8455882 , 0.720098  , 0.81421566],\n",
      "         [0.84583336, 0.7223039 , 0.81642157],\n",
      "         [0.84289217, 0.7252451 , 0.81936276],\n",
      "         ...,\n",
      "         [0.7676471 , 0.6580882 , 0.4612745 ],\n",
      "         [0.7676471 , 0.6617647 , 0.452451  ],\n",
      "         [0.76960784, 0.6637255 , 0.4480392 ]],\n",
      "\n",
      "        [[0.8453431 , 0.7198529 , 0.81397057],\n",
      "         [0.8480392 , 0.7245098 , 0.8186275 ],\n",
      "         [0.839951  , 0.7223039 , 0.81642157],\n",
      "         ...,\n",
      "         [0.76960784, 0.6598039 , 0.46960783],\n",
      "         [0.7627451 , 0.6551471 , 0.452451  ],\n",
      "         [0.7747549 , 0.66887254, 0.4595588 ]],\n",
      "\n",
      "        [[0.84705883, 0.72156864, 0.8156863 ],\n",
      "         [0.84117645, 0.7176471 , 0.8117647 ],\n",
      "         [0.8389706 , 0.72132355, 0.8154412 ],\n",
      "         ...,\n",
      "         [0.76960784, 0.6598039 , 0.4715686 ],\n",
      "         [0.76862746, 0.65882355, 0.4642157 ],\n",
      "         [0.7762255 , 0.6615196 , 0.45661765]],\n",
      "\n",
      "        ...,\n",
      "\n",
      "        [[0.3875    , 0.4227941 , 0.54632354],\n",
      "         [0.38382354, 0.422549  , 0.54044116],\n",
      "         [0.37107843, 0.41642156, 0.53137255],\n",
      "         ...,\n",
      "         [0.38431373, 0.4492647 , 0.5838235 ],\n",
      "         [0.37230393, 0.4357843 , 0.56666666],\n",
      "         [0.37058824, 0.43039215, 0.56078434]],\n",
      "\n",
      "        [[0.37279412, 0.4139706 , 0.54044116],\n",
      "         [0.36053923, 0.40588236, 0.5208333 ],\n",
      "         [0.3507353 , 0.40490195, 0.51691175],\n",
      "         ...,\n",
      "         [0.36397058, 0.43480393, 0.5752451 ],\n",
      "         [0.36764705, 0.4392157 , 0.5715686 ],\n",
      "         [0.36666667, 0.42941177, 0.5627451 ]],\n",
      "\n",
      "        [[0.36568627, 0.40882352, 0.53431374],\n",
      "         [0.34338236, 0.39828432, 0.5120098 ],\n",
      "         [0.3372549 , 0.39215687, 0.5058824 ],\n",
      "         ...,\n",
      "         [0.3526961 , 0.42916667, 0.56740195],\n",
      "         [0.3480392 , 0.42156863, 0.5539216 ],\n",
      "         [0.3480392 , 0.422549  , 0.55196077]]],\n",
      "\n",
      "\n",
      "       [[[0.83431375, 0.7088235 , 0.8029412 ],\n",
      "         [0.8303922 , 0.70686275, 0.8009804 ],\n",
      "         [0.83137256, 0.7137255 , 0.80784315],\n",
      "         ...,\n",
      "         [0.76666665, 0.65686274, 0.46666667],\n",
      "         [0.76053923, 0.65367645, 0.44877452],\n",
      "         [0.7588235 , 0.65294117, 0.44509804]],\n",
      "\n",
      "        [[0.8372549 , 0.7117647 , 0.80588233],\n",
      "         [0.8421569 , 0.71862745, 0.8127451 ],\n",
      "         [0.8392157 , 0.72156864, 0.8156863 ],\n",
      "         ...,\n",
      "         [0.76887256, 0.65612745, 0.46887255],\n",
      "         [0.75980395, 0.6480392 , 0.45196077],\n",
      "         [0.75980395, 0.6509804 , 0.44411764]],\n",
      "\n",
      "        [[0.8352941 , 0.70980394, 0.8039216 ],\n",
      "         [0.8421569 , 0.71862745, 0.8127451 ],\n",
      "         [0.8370098 , 0.71936274, 0.8134804 ],\n",
      "         ...,\n",
      "         [0.76960784, 0.6480392 , 0.46666667],\n",
      "         [0.7708333 , 0.6522059 , 0.45906863],\n",
      "         [0.77156866, 0.65392154, 0.45      ]],\n",
      "\n",
      "        ...,\n",
      "\n",
      "        [[0.39681372, 0.41642156, 0.5654412 ],\n",
      "         [0.39558825, 0.41593137, 0.5647059 ],\n",
      "         [0.38284314, 0.4120098 , 0.55784315],\n",
      "         ...,\n",
      "         [0.37769607, 0.44852942, 0.58161765],\n",
      "         [0.3759804 , 0.4343137 , 0.57034314],\n",
      "         [0.3764706 , 0.43333334, 0.56960785]],\n",
      "\n",
      "        [[0.38112745, 0.40955883, 0.55563724],\n",
      "         [0.37892157, 0.40808824, 0.5539216 ],\n",
      "         [0.37230393, 0.40808824, 0.5509804 ],\n",
      "         ...,\n",
      "         [0.3620098 , 0.4365196 , 0.5754902 ],\n",
      "         [0.37083334, 0.43946078, 0.57916665],\n",
      "         [0.38235295, 0.44509804, 0.58431375]],\n",
      "\n",
      "        [[0.35882354, 0.39803922, 0.5392157 ],\n",
      "         [0.36372548, 0.40294117, 0.5441176 ],\n",
      "         [0.36102942, 0.4002451 , 0.5414216 ],\n",
      "         ...,\n",
      "         [0.3529412 , 0.43137255, 0.5745098 ],\n",
      "         [0.36397058, 0.4365196 , 0.5767157 ],\n",
      "         [0.37058824, 0.44117647, 0.58235294]]],\n",
      "\n",
      "\n",
      "       [[[0.8264706 , 0.7127451 , 0.79901963],\n",
      "         [0.8303922 , 0.71666664, 0.8029412 ],\n",
      "         [0.8267157 , 0.71004903, 0.80220586],\n",
      "         ...,\n",
      "         [0.7610294 , 0.6404412 , 0.45318627],\n",
      "         [0.7585784 , 0.64093137, 0.4389706 ],\n",
      "         [0.75784314, 0.6401961 , 0.42843136]],\n",
      "\n",
      "        [[0.83161765, 0.71789217, 0.8041667 ],\n",
      "         [0.8257353 , 0.7102941 , 0.8       ],\n",
      "         [0.8303922 , 0.7127451 , 0.8068628 ],\n",
      "         ...,\n",
      "         [0.7610294 , 0.6426471 , 0.45465687],\n",
      "         [0.7617647 , 0.64411765, 0.44215685],\n",
      "         [0.7607843 , 0.6431373 , 0.43137255]],\n",
      "\n",
      "        [[0.8301471 , 0.7134804 , 0.80563724],\n",
      "         [0.8281863 , 0.7105392 , 0.80465686],\n",
      "         [0.83480394, 0.7171569 , 0.8112745 ],\n",
      "         ...,\n",
      "         [0.75735295, 0.64705884, 0.45686275],\n",
      "         [0.7632353 , 0.64705884, 0.44509804],\n",
      "         [0.75980395, 0.64215684, 0.43039215]],\n",
      "\n",
      "        ...,\n",
      "\n",
      "        [[0.40490195, 0.41470587, 0.5627451 ],\n",
      "         [0.39289215, 0.40857843, 0.5536765 ],\n",
      "         [0.3779412 , 0.39950982, 0.5416667 ],\n",
      "         ...,\n",
      "         [0.33235294, 0.40882352, 0.5470588 ],\n",
      "         [0.34215686, 0.4127451 , 0.5539216 ],\n",
      "         [0.3529412 , 0.42352942, 0.5647059 ]],\n",
      "\n",
      "        [[0.38137254, 0.3970588 , 0.5421569 ],\n",
      "         [0.3764706 , 0.39362746, 0.5379902 ],\n",
      "         [0.35661766, 0.38014707, 0.5213235 ],\n",
      "         ...,\n",
      "         [0.31887254, 0.39534312, 0.53357846],\n",
      "         [0.32941177, 0.4       , 0.5411765 ],\n",
      "         [0.34142157, 0.4120098 , 0.5531863 ]],\n",
      "\n",
      "        [[0.36495098, 0.38063726, 0.5178922 ],\n",
      "         [0.35196078, 0.3754902 , 0.5088235 ],\n",
      "         [0.34240195, 0.3718137 , 0.5110294 ],\n",
      "         ...,\n",
      "         [0.31176472, 0.3882353 , 0.5264706 ],\n",
      "         [0.30980393, 0.38039216, 0.52156866],\n",
      "         [0.32671568, 0.3973039 , 0.5384804 ]]]], dtype=float32), array([[[[0.8382353 , 0.7205882 , 0.82254905],\n",
      "         [0.8509804 , 0.72156864, 0.827451  ],\n",
      "         [0.85      , 0.7205882 , 0.8264706 ],\n",
      "         ...,\n",
      "         [0.7892157 , 0.66764706, 0.58137256],\n",
      "         [0.7762255 , 0.64681375, 0.5115196 ],\n",
      "         [0.78039217, 0.654902  , 0.5       ]],\n",
      "\n",
      "        [[0.8421569 , 0.7245098 , 0.8264706 ],\n",
      "         [0.84705883, 0.7176471 , 0.8235294 ],\n",
      "         [0.8507353 , 0.72132355, 0.8272059 ],\n",
      "         ...,\n",
      "         [0.79313725, 0.67156863, 0.5852941 ],\n",
      "         [0.78357846, 0.65416664, 0.51887256],\n",
      "         [0.78039217, 0.654902  , 0.5004902 ]],\n",
      "\n",
      "        [[0.8421569 , 0.7245098 , 0.8264706 ],\n",
      "         [0.8492647 , 0.7198529 , 0.8257353 ],\n",
      "         [0.84705883, 0.7176471 , 0.8235294 ],\n",
      "         ...,\n",
      "         [0.80490196, 0.68039215, 0.6009804 ],\n",
      "         [0.7852941 , 0.65588236, 0.5264706 ],\n",
      "         [0.78431374, 0.65882355, 0.5058824 ]],\n",
      "\n",
      "        ...,\n",
      "\n",
      "        [[0.485049  , 0.44019607, 0.5754902 ],\n",
      "         [0.44289216, 0.4259804 , 0.55857843],\n",
      "         [0.39534312, 0.41004902, 0.5512255 ],\n",
      "         ...,\n",
      "         [0.3242647 , 0.41740197, 0.5884804 ],\n",
      "         [0.32867646, 0.41446078, 0.58137256],\n",
      "         [0.31004903, 0.39632353, 0.55563724]],\n",
      "\n",
      "        [[0.43480393, 0.40808824, 0.5482843 ],\n",
      "         [0.40539217, 0.40686274, 0.5394608 ],\n",
      "         [0.37867647, 0.4002451 , 0.53455883],\n",
      "         ...,\n",
      "         [0.32941177, 0.422549  , 0.5995098 ],\n",
      "         [0.32941177, 0.41960785, 0.5862745 ],\n",
      "         [0.31862745, 0.40490195, 0.5656863 ]],\n",
      "\n",
      "        [[0.40637255, 0.4002451 , 0.53431374],\n",
      "         [0.39632353, 0.4014706 , 0.535049  ],\n",
      "         [0.37132353, 0.39289215, 0.5272059 ],\n",
      "         ...,\n",
      "         [0.33039215, 0.42352942, 0.6019608 ],\n",
      "         [0.33431372, 0.4245098 , 0.59117645],\n",
      "         [0.3245098 , 0.40686274, 0.5754902 ]]],\n",
      "\n",
      "\n",
      "       [[[0.84607846, 0.72843134, 0.82254905],\n",
      "         [0.85      , 0.73039216, 0.8245098 ],\n",
      "         [0.8598039 , 0.73137254, 0.83431375],\n",
      "         ...,\n",
      "         [0.7911765 , 0.6784314 , 0.577451  ],\n",
      "         [0.7892157 , 0.66568625, 0.5181373 ],\n",
      "         [0.7914216 , 0.66593134, 0.5129902 ]],\n",
      "\n",
      "        [[0.85      , 0.7323529 , 0.8264706 ],\n",
      "         [0.85318625, 0.73259807, 0.83112746],\n",
      "         [0.8627451 , 0.73333335, 0.8392157 ],\n",
      "         ...,\n",
      "         [0.7995098 , 0.6867647 , 0.59362745],\n",
      "         [0.79019606, 0.6666667 , 0.51960784],\n",
      "         [0.7943627 , 0.66887254, 0.51593137]],\n",
      "\n",
      "        [[0.84313726, 0.7254902 , 0.8254902 ],\n",
      "         [0.8536765 , 0.73308825, 0.8360294 ],\n",
      "         [0.8605392 , 0.73112744, 0.8370098 ],\n",
      "         ...,\n",
      "         [0.8002451 , 0.6875    , 0.5973039 ],\n",
      "         [0.79240197, 0.66593134, 0.5296569 ],\n",
      "         [0.78161764, 0.66495097, 0.5090686 ]],\n",
      "\n",
      "        ...,\n",
      "\n",
      "        [[0.8066176 , 0.70931375, 0.8232843 ],\n",
      "         [0.60612744, 0.5446078 , 0.6720588 ],\n",
      "         [0.4365196 , 0.41127452, 0.5504902 ],\n",
      "         ...,\n",
      "         [0.34877452, 0.44681373, 0.60759807],\n",
      "         [0.3394608 , 0.4375    , 0.5982843 ],\n",
      "         [0.34509805, 0.4372549 , 0.5980392 ]],\n",
      "\n",
      "        [[0.6727941 , 0.6022059 , 0.7259804 ],\n",
      "         [0.45490196, 0.4127451 , 0.54558825],\n",
      "         [0.40980393, 0.40392157, 0.54509807],\n",
      "         ...,\n",
      "         [0.35049018, 0.45294118, 0.61813724],\n",
      "         [0.3382353 , 0.4362745 , 0.59705883],\n",
      "         [0.33357844, 0.43161765, 0.592402  ]],\n",
      "\n",
      "        [[0.5470588 , 0.49362746, 0.6223039 ],\n",
      "         [0.43088236, 0.40710783, 0.5419118 ],\n",
      "         [0.40098038, 0.40686274, 0.5539216 ],\n",
      "         ...,\n",
      "         [0.34117648, 0.44705883, 0.6156863 ],\n",
      "         [0.34215686, 0.4392157 , 0.6107843 ],\n",
      "         [0.32843137, 0.42647058, 0.5872549 ]]],\n",
      "\n",
      "\n",
      "       [[[0.8544118 , 0.7367647 , 0.8387255 ],\n",
      "         [0.85490197, 0.7372549 , 0.8392157 ],\n",
      "         [0.86470586, 0.7470588 , 0.8490196 ],\n",
      "         ...,\n",
      "         [0.80588233, 0.6882353 , 0.575     ],\n",
      "         [0.7892157 , 0.6696078 , 0.49264705],\n",
      "         [0.7914216 , 0.6698529 , 0.48553923]],\n",
      "\n",
      "        [[0.8517157 , 0.73406863, 0.8360294 ],\n",
      "         [0.8598039 , 0.74215686, 0.84411764],\n",
      "         [0.8598039 , 0.74215686, 0.84411764],\n",
      "         ...,\n",
      "         [0.8137255 , 0.69509804, 0.59411764],\n",
      "         [0.79362744, 0.67034316, 0.5125    ],\n",
      "         [0.7992647 , 0.67769605, 0.5036765 ]],\n",
      "\n",
      "        [[0.8539216 , 0.7362745 , 0.8382353 ],\n",
      "         [0.85906863, 0.7414216 , 0.84338236],\n",
      "         [0.8659314 , 0.74828434, 0.8502451 ],\n",
      "         ...,\n",
      "         [0.81397057, 0.6904412 , 0.5982843 ],\n",
      "         [0.7943627 , 0.66887254, 0.51691175],\n",
      "         [0.8007353 , 0.6791667 , 0.50661767]],\n",
      "\n",
      "        ...,\n",
      "\n",
      "        [[0.37745097, 0.40098038, 0.53431374],\n",
      "         [0.35955882, 0.39093137, 0.53210783],\n",
      "         [0.3634804 , 0.4007353 , 0.5389706 ],\n",
      "         ...,\n",
      "         [0.3482843 , 0.43039215, 0.5539216 ],\n",
      "         [0.34681374, 0.4245098 , 0.55      ],\n",
      "         [0.34779412, 0.4254902 , 0.5509804 ]],\n",
      "\n",
      "        [[0.37279412, 0.39632353, 0.5296569 ],\n",
      "         [0.3512255 , 0.38259804, 0.5237745 ],\n",
      "         [0.34313726, 0.38039216, 0.51862746],\n",
      "         ...,\n",
      "         [0.34411764, 0.4343137 , 0.5656863 ],\n",
      "         [0.3382353 , 0.42843136, 0.5598039 ],\n",
      "         [0.33529413, 0.42843136, 0.56764704]],\n",
      "\n",
      "        [[0.3615196 , 0.38504902, 0.5183824 ],\n",
      "         [0.3529412 , 0.38431373, 0.5254902 ],\n",
      "         [0.33431372, 0.37156862, 0.50980395],\n",
      "         ...,\n",
      "         [0.35392156, 0.44019607, 0.5852941 ],\n",
      "         [0.34607843, 0.43235293, 0.577451  ],\n",
      "         [0.34509805, 0.43137255, 0.58431375]]],\n",
      "\n",
      "\n",
      "       ...,\n",
      "\n",
      "\n",
      "       [[[0.8480392 , 0.71862745, 0.8401961 ],\n",
      "         [0.85490197, 0.7254902 , 0.84705883],\n",
      "         [0.85490197, 0.7254902 , 0.84705883],\n",
      "         ...,\n",
      "         [0.8088235 , 0.6843137 , 0.5990196 ],\n",
      "         [0.8029412 , 0.66764706, 0.5411765 ],\n",
      "         [0.79607844, 0.67058825, 0.52156866]],\n",
      "\n",
      "        [[0.8480392 , 0.71862745, 0.8401961 ],\n",
      "         [0.8568627 , 0.72745097, 0.8490196 ],\n",
      "         [0.85588235, 0.7264706 , 0.8480392 ],\n",
      "         ...,\n",
      "         [0.8127451 , 0.6882353 , 0.60882354],\n",
      "         [0.8029412 , 0.67058825, 0.5352941 ],\n",
      "         [0.7970588 , 0.67156863, 0.52254903]],\n",
      "\n",
      "        [[0.8512255 , 0.72181374, 0.84338236],\n",
      "         [0.85612744, 0.7267157 , 0.8482843 ],\n",
      "         [0.85588235, 0.7264706 , 0.8480392 ],\n",
      "         ...,\n",
      "         [0.81421566, 0.6897059 , 0.6102941 ],\n",
      "         [0.8098039 , 0.67745095, 0.5421569 ],\n",
      "         [0.7970588 , 0.67156863, 0.51960784]],\n",
      "\n",
      "        ...,\n",
      "\n",
      "        [[0.35514706, 0.3875    , 0.54044116],\n",
      "         [0.35049018, 0.38259804, 0.5355392 ],\n",
      "         [0.34362745, 0.37573528, 0.52867645],\n",
      "         ...,\n",
      "         [0.3389706 , 0.4120098 , 0.577451  ],\n",
      "         [0.33357844, 0.40220588, 0.56985295],\n",
      "         [0.34901962, 0.41764706, 0.5852941 ]],\n",
      "\n",
      "        [[0.34142157, 0.3767157 , 0.5296569 ],\n",
      "         [0.3367647 , 0.3718137 , 0.5247549 ],\n",
      "         [0.33088234, 0.36593136, 0.51887256],\n",
      "         ...,\n",
      "         [0.32230392, 0.39093137, 0.55857843],\n",
      "         [0.3245098 , 0.39754903, 0.5629902 ],\n",
      "         [0.3392157 , 0.4137255 , 0.57843137]],\n",
      "\n",
      "        [[0.34387255, 0.37916666, 0.53210783],\n",
      "         [0.3382353 , 0.3735294 , 0.5264706 ],\n",
      "         [0.32818627, 0.3634804 , 0.51642156],\n",
      "         ...,\n",
      "         [0.32083333, 0.38946077, 0.55710787],\n",
      "         [0.32254902, 0.3970588 , 0.5617647 ],\n",
      "         [0.3360294 , 0.4105392 , 0.5752451 ]]],\n",
      "\n",
      "\n",
      "       [[[0.08602941, 0.08995098, 0.06642157],\n",
      "         [0.11740196, 0.10465686, 0.0752451 ],\n",
      "         [0.14509805, 0.12941177, 0.09411765],\n",
      "         ...,\n",
      "         [0.04901961, 0.06960785, 0.03137255],\n",
      "         [0.02843137, 0.0372549 , 0.00147059],\n",
      "         [0.04019608, 0.04019608, 0.00294118]],\n",
      "\n",
      "        [[0.05441177, 0.06666667, 0.03921569],\n",
      "         [0.08186275, 0.07965686, 0.04754902],\n",
      "         [0.11960784, 0.11078431, 0.07647059],\n",
      "         ...,\n",
      "         [0.07377451, 0.09436274, 0.05612745],\n",
      "         [0.05098039, 0.05980392, 0.01862745],\n",
      "         [0.04019608, 0.04019608, 0.00098039]],\n",
      "\n",
      "        [[0.05196078, 0.07303922, 0.04485294],\n",
      "         [0.05980392, 0.06960785, 0.04117647],\n",
      "         [0.09240196, 0.09705883, 0.07083333],\n",
      "         ...,\n",
      "         [0.02794118, 0.04852941, 0.01029412],\n",
      "         [0.03259804, 0.04142157, 0.00245098],\n",
      "         [0.05490196, 0.05490196, 0.01568628]],\n",
      "\n",
      "        ...,\n",
      "\n",
      "        [[0.3507353 , 0.46348038, 0.47916666],\n",
      "         [0.34485295, 0.45392156, 0.46985295],\n",
      "         [0.35049018, 0.4507353 , 0.46960783],\n",
      "         ...,\n",
      "         [0.05416667, 0.05416667, 0.05416667],\n",
      "         [0.06176471, 0.06176471, 0.06176471],\n",
      "         [0.06960785, 0.06960785, 0.06960785]],\n",
      "\n",
      "        [[0.3492647 , 0.45906863, 0.4747549 ],\n",
      "         [0.35367647, 0.45392156, 0.47279412],\n",
      "         [0.3482843 , 0.44191176, 0.46372548],\n",
      "         ...,\n",
      "         [0.05098039, 0.05098039, 0.05098039],\n",
      "         [0.05784314, 0.05784314, 0.05784314],\n",
      "         [0.05490196, 0.05490196, 0.05490196]],\n",
      "\n",
      "        [[0.36078432, 0.45882353, 0.47843137],\n",
      "         [0.34901962, 0.44509804, 0.46568626],\n",
      "         [0.34901962, 0.4392157 , 0.4627451 ],\n",
      "         ...,\n",
      "         [0.04705882, 0.04705882, 0.04705882],\n",
      "         [0.05392157, 0.05392157, 0.05392157],\n",
      "         [0.05882353, 0.05882353, 0.05882353]]],\n",
      "\n",
      "\n",
      "       [[[0.8421569 , 0.7323529 , 0.8303922 ],\n",
      "         [0.8473039 , 0.7355392 , 0.83455884],\n",
      "         [0.8539216 , 0.7362745 , 0.8382353 ],\n",
      "         ...,\n",
      "         [0.7943627 , 0.6816176 , 0.5884804 ],\n",
      "         [0.7982843 , 0.6747549 , 0.5276961 ],\n",
      "         [0.7941176 , 0.68039215, 0.5137255 ]],\n",
      "\n",
      "        [[0.8482843 , 0.7384804 , 0.8365196 ],\n",
      "         [0.8455882 , 0.7323529 , 0.83210784],\n",
      "         [0.8517157 , 0.73406863, 0.8360294 ],\n",
      "         ...,\n",
      "         [0.8137255 , 0.69215685, 0.6019608 ],\n",
      "         [0.7946078 , 0.67107844, 0.5240196 ],\n",
      "         [0.79313725, 0.6764706 , 0.5112745 ]],\n",
      "\n",
      "        [[0.8519608 , 0.7362745 , 0.8372549 ],\n",
      "         [0.8477941 , 0.73014706, 0.83210784],\n",
      "         [0.8517157 , 0.73406863, 0.8360294 ],\n",
      "         ...,\n",
      "         [0.8125    , 0.6909314 , 0.6007353 ],\n",
      "         [0.8129902 , 0.6872549 , 0.54093134],\n",
      "         [0.80514705, 0.67965686, 0.51887256]],\n",
      "\n",
      "        ...,\n",
      "\n",
      "        [[0.3247549 , 0.36397058, 0.50514704],\n",
      "         [0.32941177, 0.37156862, 0.5117647 ],\n",
      "         [0.34142157, 0.39240196, 0.5296569 ],\n",
      "         ...,\n",
      "         [0.35955882, 0.44583333, 0.6046569 ],\n",
      "         [0.34436274, 0.43063724, 0.5835784 ],\n",
      "         [0.34681374, 0.43308824, 0.5860294 ]],\n",
      "\n",
      "        [[0.31887254, 0.36691177, 0.50514704],\n",
      "         [0.31911764, 0.36789215, 0.5058824 ],\n",
      "         [0.32843137, 0.37941176, 0.51666665],\n",
      "         ...,\n",
      "         [0.35514706, 0.44142157, 0.6002451 ],\n",
      "         [0.34215686, 0.42843136, 0.58137256],\n",
      "         [0.34338236, 0.42965686, 0.58259803]],\n",
      "\n",
      "        [[0.33235294, 0.38333333, 0.5205882 ],\n",
      "         [0.33995098, 0.39093137, 0.52818626],\n",
      "         [0.33235294, 0.38627452, 0.5235294 ],\n",
      "         ...,\n",
      "         [0.34191176, 0.43112746, 0.589951  ],\n",
      "         [0.34509805, 0.43137255, 0.58431375],\n",
      "         [0.3362745 , 0.422549  , 0.5754902 ]]]], dtype=float32))\n"
     ]
    }
   ],
   "source": [
    "X = batch_1[:2]\n",
    "print(X)"
   ]
  },
  {
   "cell_type": "code",
   "execution_count": 60,
   "id": "049901fb",
   "metadata": {},
   "outputs": [],
   "source": [
    "y = batch_1[2]"
   ]
  },
  {
   "cell_type": "code",
   "execution_count": 61,
   "id": "cecd312d",
   "metadata": {},
   "outputs": [
    {
     "data": {
      "text/plain": [
       "array([1., 1., 1., 1., 0., 1., 0., 0., 1., 0., 1., 0., 1., 1., 0., 1.],\n",
       "      dtype=float32)"
      ]
     },
     "execution_count": 61,
     "metadata": {},
     "output_type": "execute_result"
    }
   ],
   "source": [
    "y"
   ]
  },
  {
   "cell_type": "code",
   "execution_count": 66,
   "id": "0b20b521",
   "metadata": {},
   "outputs": [],
   "source": [
    "#Build Train Step Function\n",
    "@tf.function\n",
    "def train_step(batch):\n",
    "    \n",
    "    #Record all of our operations\n",
    "    with tf.GradientTape() as tape:\n",
    "        #Get anchor and positive/negative image\n",
    "        X = batch[:2]\n",
    "        #Get label\n",
    "        y = batch[2]\n",
    "        \n",
    "        #Forward pass\n",
    "        yhat = siamese_model(X, training=True)\n",
    "        #Calculate loss\n",
    "        loss = binary_cross_loss(y, yhat)\n",
    "    print(loss)  \n",
    "    \n",
    "    #Calculate gradients\n",
    "    grad = tape.gradient(loss, siamese_model.trainable_variables)\n",
    "    \n",
    "    #Calculate updated weights and apply to siamese model\n",
    "    opt.apply_gradients(zip(grad, siamese_model.trainable_variables))\n",
    "    \n",
    "    #Return loss\n",
    "    return loss"
   ]
  },
  {
   "cell_type": "code",
   "execution_count": 67,
   "id": "4c705a48",
   "metadata": {},
   "outputs": [],
   "source": [
    "#Build training loop\n",
    "\n",
    "def train(data, EPOCHS):\n",
    "    #loop through epochs\n",
    "    for epoch in range(1, EPOCHS+1):\n",
    "        print('\\n Epoch {}/{}'.format(epoch, EPOCHS))\n",
    "        progbar = tf.keras.utils.Progbar(len(data))\n",
    "        \n",
    "        #loop through each batch\n",
    "        for idx, batch in enumerate(data):\n",
    "            #Run train step here\n",
    "            train_step(batch)\n",
    "            progbar.update(idx+1)\n",
    "        \n",
    "        #save checkpoints\n",
    "        if epoch % 10 == 0:\n",
    "            checkpoint.save(file_prefix = checkpoint_prefix)\n",
    "    \n",
    "    "
   ]
  },
  {
   "cell_type": "code",
   "execution_count": 68,
   "id": "6a5f2869",
   "metadata": {},
   "outputs": [],
   "source": [
    "EPOCHS = 50"
   ]
  },
  {
   "cell_type": "code",
   "execution_count": 69,
   "id": "94442029",
   "metadata": {},
   "outputs": [
    {
     "name": "stdout",
     "output_type": "stream",
     "text": [
      "\n",
      " Epoch 1/50\n",
      "Tensor(\"binary_crossentropy/weighted_loss/value:0\", shape=(), dtype=float32)\n",
      "Tensor(\"binary_crossentropy/weighted_loss/value:0\", shape=(), dtype=float32)\n",
      "26/27 [===========================>..] - ETA: 58s Tensor(\"binary_crossentropy/weighted_loss/value:0\", shape=(), dtype=float32)\n",
      "27/27 [==============================] - 1544s 57s/step\n",
      "\n",
      " Epoch 2/50\n",
      "27/27 [==============================] - 1543s 57s/step\n",
      "\n",
      " Epoch 3/50\n",
      "27/27 [==============================] - 1536s 57s/step\n",
      "\n",
      " Epoch 4/50\n",
      "27/27 [==============================] - 1512s 56s/step\n",
      "\n",
      " Epoch 5/50\n",
      "27/27 [==============================] - 840s 30s/step\n",
      "\n",
      " Epoch 6/50\n",
      "27/27 [==============================] - 695s 26s/step\n",
      "\n",
      " Epoch 7/50\n",
      "27/27 [==============================] - 706s 26s/step\n",
      "\n",
      " Epoch 8/50\n",
      "27/27 [==============================] - 703s 26s/step\n",
      "\n",
      " Epoch 9/50\n",
      "27/27 [==============================] - 698s 26s/step\n",
      "\n",
      " Epoch 10/50\n",
      "27/27 [==============================] - 699s 26s/step\n",
      "\n",
      " Epoch 11/50\n",
      "27/27 [==============================] - 710s 26s/step\n",
      "\n",
      " Epoch 12/50\n",
      "27/27 [==============================] - 703s 26s/step\n",
      "\n",
      " Epoch 13/50\n",
      "27/27 [==============================] - 713s 26s/step\n",
      "\n",
      " Epoch 14/50\n",
      "27/27 [==============================] - 707s 26s/step\n",
      "\n",
      " Epoch 15/50\n",
      "27/27 [==============================] - 705s 26s/step\n",
      "\n",
      " Epoch 16/50\n",
      "27/27 [==============================] - 708s 26s/step\n",
      "\n",
      " Epoch 17/50\n",
      "27/27 [==============================] - 706s 26s/step\n",
      "\n",
      " Epoch 18/50\n",
      "27/27 [==============================] - 708s 26s/step\n",
      "\n",
      " Epoch 19/50\n",
      "27/27 [==============================] - 713s 26s/step\n",
      "\n",
      " Epoch 20/50\n",
      "27/27 [==============================] - 706s 26s/step\n",
      "\n",
      " Epoch 21/50\n",
      "27/27 [==============================] - 710s 26s/step\n",
      "\n",
      " Epoch 22/50\n",
      "27/27 [==============================] - 707s 26s/step\n",
      "\n",
      " Epoch 23/50\n",
      "27/27 [==============================] - 709s 26s/step\n",
      "\n",
      " Epoch 24/50\n",
      "27/27 [==============================] - 709s 26s/step\n",
      "\n",
      " Epoch 25/50\n",
      "27/27 [==============================] - 708s 26s/step\n",
      "\n",
      " Epoch 26/50\n",
      "27/27 [==============================] - 709s 26s/step\n",
      "\n",
      " Epoch 27/50\n",
      "27/27 [==============================] - 710s 26s/step\n",
      "\n",
      " Epoch 28/50\n",
      "27/27 [==============================] - 709s 26s/step\n",
      "\n",
      " Epoch 29/50\n",
      "27/27 [==============================] - 712s 26s/step\n",
      "\n",
      " Epoch 30/50\n",
      "27/27 [==============================] - 710s 26s/step\n",
      "\n",
      " Epoch 31/50\n",
      "27/27 [==============================] - 717s 26s/step\n",
      "\n",
      " Epoch 32/50\n",
      "27/27 [==============================] - 707s 26s/step\n",
      "\n",
      " Epoch 33/50\n",
      "27/27 [==============================] - 704s 26s/step\n",
      "\n",
      " Epoch 34/50\n",
      "27/27 [==============================] - 704s 26s/step\n",
      "\n",
      " Epoch 35/50\n",
      "27/27 [==============================] - 705s 26s/step\n",
      "\n",
      " Epoch 36/50\n",
      "27/27 [==============================] - 703s 26s/step\n",
      "\n",
      " Epoch 37/50\n",
      "27/27 [==============================] - 693s 26s/step\n",
      "\n",
      " Epoch 38/50\n",
      "27/27 [==============================] - 695s 26s/step\n",
      "\n",
      " Epoch 39/50\n",
      "27/27 [==============================] - 696s 26s/step\n",
      "\n",
      " Epoch 40/50\n",
      "27/27 [==============================] - 700s 26s/step\n",
      "\n",
      " Epoch 41/50\n",
      "27/27 [==============================] - 705s 26s/step\n",
      "\n",
      " Epoch 42/50\n",
      "27/27 [==============================] - 700s 26s/step\n",
      "\n",
      " Epoch 43/50\n",
      "27/27 [==============================] - 704s 26s/step\n",
      "\n",
      " Epoch 44/50\n",
      "27/27 [==============================] - 699s 26s/step\n",
      "\n",
      " Epoch 45/50\n",
      "27/27 [==============================] - 694s 26s/step\n",
      "\n",
      " Epoch 46/50\n",
      "27/27 [==============================] - 696s 26s/step\n",
      "\n",
      " Epoch 47/50\n",
      "27/27 [==============================] - 700s 26s/step\n",
      "\n",
      " Epoch 48/50\n",
      "27/27 [==============================] - 699s 26s/step\n",
      "\n",
      " Epoch 49/50\n",
      "27/27 [==============================] - 700s 26s/step\n",
      "\n",
      " Epoch 50/50\n",
      "27/27 [==============================] - 706s 26s/step\n"
     ]
    }
   ],
   "source": [
    "train(train_data,EPOCHS)"
   ]
  },
  {
   "cell_type": "code",
   "execution_count": 70,
   "id": "024ff454",
   "metadata": {},
   "outputs": [],
   "source": [
    "#Evaluate Model\n",
    "#Import metric calculations\n",
    "from tensorflow.keras.metrics import Precision,Recall\n"
   ]
  },
  {
   "cell_type": "code",
   "execution_count": 71,
   "id": "4a76b8f6",
   "metadata": {},
   "outputs": [],
   "source": [
    "#Get a batch of test data\n",
    "test_input, test_val, y_true = test_data.as_numpy_iterator().next()"
   ]
  },
  {
   "cell_type": "code",
   "execution_count": 77,
   "id": "8fb68be3",
   "metadata": {},
   "outputs": [
    {
     "data": {
      "text/plain": [
       "array([[2.2861995e-19],\n",
       "       [9.9924958e-01],\n",
       "       [9.8546743e-01],\n",
       "       [3.4105603e-20],\n",
       "       [1.1557303e-17],\n",
       "       [7.4910103e-20],\n",
       "       [8.7559092e-01],\n",
       "       [9.9452746e-01],\n",
       "       [1.8462144e-13],\n",
       "       [9.8060668e-01],\n",
       "       [9.8956072e-01],\n",
       "       [9.9743551e-01],\n",
       "       [9.9961233e-01],\n",
       "       [9.8528731e-01],\n",
       "       [1.3940141e-08],\n",
       "       [1.5957862e-20]], dtype=float32)"
      ]
     },
     "execution_count": 77,
     "metadata": {},
     "output_type": "execute_result"
    }
   ],
   "source": [
    "#Make Predictions\n",
    "y_hat = siamese_model.predict([test_input, test_val])\n",
    "y_hat "
   ]
  },
  {
   "cell_type": "code",
   "execution_count": 78,
   "id": "62e677ad",
   "metadata": {},
   "outputs": [
    {
     "data": {
      "text/plain": [
       "[0, 1, 1, 0, 0, 0, 1, 1, 0, 1, 1, 1, 1, 1, 0, 0]"
      ]
     },
     "execution_count": 78,
     "metadata": {},
     "output_type": "execute_result"
    }
   ],
   "source": [
    "#Post processing the results\n",
    "[1 if prediction > 0.5 else 0 for prediction in y_hat ]"
   ]
  },
  {
   "cell_type": "code",
   "execution_count": 79,
   "id": "0fa0290f",
   "metadata": {},
   "outputs": [
    {
     "data": {
      "text/plain": [
       "array([0., 1., 1., 0., 0., 0., 1., 1., 0., 1., 1., 1., 1., 1., 0., 0.],\n",
       "      dtype=float32)"
      ]
     },
     "execution_count": 79,
     "metadata": {},
     "output_type": "execute_result"
    }
   ],
   "source": [
    "y_true"
   ]
  },
  {
   "cell_type": "code",
   "execution_count": 81,
   "id": "71bdc8f8",
   "metadata": {},
   "outputs": [
    {
     "data": {
      "text/plain": [
       "1.0"
      ]
     },
     "execution_count": 81,
     "metadata": {},
     "output_type": "execute_result"
    }
   ],
   "source": [
    "#Creating a metric object\n",
    "m = Recall()\n",
    "\n",
    "#Calculating the recall value\n",
    "m.update_state(y_true, y_hat)\n",
    "\n",
    "#Return Recall Result\n",
    "m.result().numpy()"
   ]
  },
  {
   "cell_type": "code",
   "execution_count": 87,
   "id": "3c2f0a62",
   "metadata": {},
   "outputs": [
    {
     "data": {
      "image/png": "[encoded data removed]",
      "text/plain": [
       "<Figure size 1800x800 with 2 Axes>"
      ]
     },
     "metadata": {},
     "output_type": "display_data"
    }
   ],
   "source": [
    "#Viz Results\n",
    "\n",
    "#Set plot size\n",
    "plt.figure(figsize=(18,8))\n",
    "\n",
    "#Set first subplot\n",
    "plt.subplot(1,2,1)\n",
    "plt.imshow(test_input[5])\n",
    "\n",
    "#Set second subplot\n",
    "plt.subplot(1,2,2)\n",
    "plt.imshow(test_val[5])\n",
    "\n",
    "#Show plot\n",
    "plt.show()"
   ]
  },
  {
   "cell_type": "code",
   "execution_count": 88,
   "id": "292b8934",
   "metadata": {},
   "outputs": [],
   "source": [
    "#Save Model\n",
    "\n",
    "#Save weights\n",
    "siamese_model.save('siamesemodel.h5')"
   ]
  },
  {
   "cell_type": "code",
   "execution_count": 89,
   "id": "8b9eaa76",
   "metadata": {},
   "outputs": [
    {
     "name": "stdout",
     "output_type": "stream",
     "text": [
      "WARNING:tensorflow:No training configuration found in the save file, so the model was *not* compiled. Compile it manually.\n"
     ]
    }
   ],
   "source": [
    "#Reload model\n",
    "model = tf.keras.models.load_model('siamesemodel.h5', \n",
    "                                   custom_objects={'L1Dist':L1Dist, 'BinaryCrossentropy':tf.losses.BinaryCrossentropy})"
   ]
  },
  {
   "cell_type": "code",
   "execution_count": 92,
   "id": "7000d635",
   "metadata": {},
   "outputs": [],
   "source": [
    "tf.keras.models.load_model??"
   ]
  },
  {
   "cell_type": "code",
   "execution_count": 93,
   "id": "89966fe5",
   "metadata": {},
   "outputs": [
    {
     "data": {
      "text/plain": [
       "array([[2.2861995e-19],\n",
       "       [9.9924958e-01],\n",
       "       [9.8546743e-01],\n",
       "       [3.4105603e-20],\n",
       "       [1.1557303e-17],\n",
       "       [7.4910103e-20],\n",
       "       [8.7559092e-01],\n",
       "       [9.9452746e-01],\n",
       "       [1.8462144e-13],\n",
       "       [9.8060668e-01],\n",
       "       [9.8956072e-01],\n",
       "       [9.9743551e-01],\n",
       "       [9.9961233e-01],\n",
       "       [9.8528731e-01],\n",
       "       [1.3940141e-08],\n",
       "       [1.5957862e-20]], dtype=float32)"
      ]
     },
     "execution_count": 93,
     "metadata": {},
     "output_type": "execute_result"
    }
   ],
   "source": [
    "#make predictions with a reloaded model\n",
    "model.predict([test_input, test_val])"
   ]
  },
  {
   "cell_type": "code",
   "execution_count": 95,
   "id": "771368d6",
   "metadata": {},
   "outputs": [
    {
     "name": "stdout",
     "output_type": "stream",
     "text": [
      "Model: \"SiameseNetwork\"\n",
      "__________________________________________________________________________________________________\n",
      "Layer (type)                    Output Shape         Param #     Connected to                     \n",
      "==================================================================================================\n",
      "input_img (InputLayer)          [(None, 100, 100, 3) 0                                            \n",
      "__________________________________________________________________________________________________\n",
      "validation_img (InputLayer)     [(None, 100, 100, 3) 0                                            \n",
      "__________________________________________________________________________________________________\n",
      "embedding (Functional)          (None, 4096)         38960448    input_img[0][0]                  \n",
      "                                                                 validation_img[0][0]             \n",
      "__________________________________________________________________________________________________\n",
      "l1_dist_2 (L1Dist)              (None, 4096)         0           embedding[0][0]                  \n",
      "                                                                 embedding[1][0]                  \n",
      "__________________________________________________________________________________________________\n",
      "dense_2 (Dense)                 (None, 1)            4097        l1_dist_2[0][0]                  \n",
      "==================================================================================================\n",
      "Total params: 38,964,545\n",
      "Trainable params: 38,964,545\n",
      "Non-trainable params: 0\n",
      "__________________________________________________________________________________________________\n"
     ]
    }
   ],
   "source": [
    "#view model summary\n",
    "model.summary()"
   ]
  },
  {
   "cell_type": "code",
   "execution_count": 96,
   "id": "eb7018e0",
   "metadata": {},
   "outputs": [],
   "source": [
    "#Real Time Test"
   ]
  },
  {
   "cell_type": "code",
   "execution_count": 102,
   "id": "9cd6746a",
   "metadata": {},
   "outputs": [],
   "source": [
    "#Verification Function\n",
    "def verify(model, detection_threshold, verification_threshold):\n",
    "    #Build results array\n",
    "    results = []\n",
    "    for image in os.listdir(os.path.join('application_data','verification_images')):\n",
    "        input_img = preprocess(os.path.join('application_data','input_image','input_image.jpg'))\n",
    "        validation_img = preprocess(os.path.join('application_data','verification_images',image))\n",
    "        \n",
    "        #Make predictions\n",
    "        result = model.predict(list(np.expand_dims([input_img,validation_img], axis=1)))\n",
    "        results.append(result)\n",
    "      \n",
    "    #Detection Threshold: Metric above which a prediction is considered positive\n",
    "    detection = np.sum(np.array(results) > detection_threshold)\n",
    "    \n",
    "    #Verification Threshold: Proportion of positive predictions / total positive samples\n",
    "    verification = detection / len(os.listdir(os.path.join('application_data', 'verification_images')))\n",
    "    verified = verification > verification_threshold\n",
    "        \n",
    "    return results, verified\n",
    "    "
   ]
  },
  {
   "cell_type": "code",
   "execution_count": 106,
   "id": "ebfac284",
   "metadata": {},
   "outputs": [
    {
     "name": "stdout",
     "output_type": "stream",
     "text": [
      "True\n",
      "True\n",
      "False\n",
      "False\n",
      "False\n",
      "True\n",
      "True\n",
      "True\n"
     ]
    }
   ],
   "source": [
    "#OpenCV Real Time Verification\n",
    "\n",
    "cap = cv2.VideoCapture(0)\n",
    "while cap.isOpened():\n",
    "    ret, frame = cap.read()\n",
    "    frame = frame[100:100+250,200:200+250,:]\n",
    "    \n",
    "    cv2.imshow('Verification', frame)\n",
    "    \n",
    "    #Verification Trigger\n",
    "    if cv2.waitKey(10) & 0xFF == ord('v'):\n",
    "        #Save input image to application_data/input_image folder\n",
    "        cv2.imwrite(os.path.join('application_data', 'input_image', 'input_image.jpg'), frame)\n",
    "        #Run verification\n",
    "        results, verified = verify(model, 0.9, 0.7)\n",
    "        print(verified)\n",
    "    \n",
    "    if cv2.waitKey(10) & 0xFF == ord('q'):\n",
    "        break\n",
    "cap.release()\n",
    "cv2.destroyAllWindows()"
   ]
  },
  {
   "cell_type": "code",
   "execution_count": 107,
   "id": "12cc976e",
   "metadata": {},
   "outputs": [],
   "source": [
    "# succedded !!!!"
   ]
  }
 ],
 "metadata": {
  "kernelspec": {
   "display_name": "Python 3 (ipykernel)",
   "language": "python",
   "name": "python3"
  },
  "language_info": {
   "codemirror_mode": {
    "name": "ipython",
    "version": 3
   },
   "file_extension": ".py",
   "mimetype": "text/x-python",
   "name": "python",
   "nbconvert_exporter": "python",
   "pygments_lexer": "ipython3",
   "version": "3.7.3"
  }
 },
 "nbformat": 4,
 "nbformat_minor": 5
}
